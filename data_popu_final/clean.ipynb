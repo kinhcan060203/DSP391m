{
 "cells": [
  {
   "cell_type": "code",
   "execution_count": 2,
   "metadata": {},
   "outputs": [],
   "source": [
    "import json\n",
    "with open(f'songs2.json', 'r', encoding='utf-8') as f:\n",
    "    data_raw = json.load(f)\n",
    "\n",
    "for item in data_raw:\n",
    "    item.pop(\"video_id\", None)\n",
    "    item.pop(\"name\", None)\n",
    "    item.pop(\"name_track\", None)\n",
    "    item.pop(\"favoriteCount\", None)\n",
    "\n",
    "with open(f'songs2.json', 'w', encoding='utf-8') as f:\n",
    "    json.dump(data_raw, f, ensure_ascii=False, indent=4)"
   ]
  },
  {
   "cell_type": "code",
   "execution_count": 3,
   "metadata": {},
   "outputs": [],
   "source": [
    "import json\n",
    "with open(f'songs2.json', 'r', encoding='utf-8') as f1:\n",
    "    songs2 = json.load(f1)\n",
    "with open(f'combined_data.json', 'r', encoding='utf-8') as f2:\n",
    "    merged_data_clean = json.load(f2)\n",
    "\n",
    "    \n",
    "songs2_dict = {track['id_track']: track for track in songs2}\n",
    "\n",
    "for track in merged_data_clean:\n",
    "    id_track = track['id_track']\n",
    "    if id_track in songs2_dict:\n",
    "        track.update(songs2_dict[id_track])\n",
    "\n",
    "with open(f'final_data .json', 'w', encoding='utf-8') as mf:\n",
    "    json.dump(merged_data_clean, mf, ensure_ascii=False, indent=4)"
   ]
  }
 ],
 "metadata": {
  "kernelspec": {
   "display_name": "Python 3",
   "language": "python",
   "name": "python3"
  },
  "language_info": {
   "codemirror_mode": {
    "name": "ipython",
    "version": 3
   },
   "file_extension": ".py",
   "mimetype": "text/x-python",
   "name": "python",
   "nbconvert_exporter": "python",
   "pygments_lexer": "ipython3",
   "version": "3.11.10"
  }
 },
 "nbformat": 4,
 "nbformat_minor": 2
}
