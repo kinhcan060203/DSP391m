{
 "cells": [
  {
   "cell_type": "code",
   "execution_count": 10,
   "metadata": {},
   "outputs": [],
   "source": [
    "import json\n",
    "\n",
    "with open('id.json', 'r', encoding='utf-8') as json_file:\n",
    "    data = json.load(json_file)\n",
    "\n",
    "id_tracks = [item['id'] for item in data]"
   ]
  },
  {
   "cell_type": "code",
   "execution_count": 12,
   "metadata": {},
   "outputs": [],
   "source": [
    "import requests\n",
    "from bs4 import BeautifulSoup\n",
    "import json\n",
    "\n",
    "def get_song_info(id_tracks):\n",
    "    data = []\n",
    "    url = f'https://kworb.net/spotify/track/{song_id}.html'  \n",
    "    response = requests.get(url)\n",
    "    soup = BeautifulSoup(response.content, 'html.parser')\n",
    "\n",
    "    weekly_div = soup.find('div', class_='weekly')\n",
    "    if weekly_div:\n",
    "        rows = weekly_div.find_all('tr')\n",
    "        for row in rows:\n",
    "            cols = row.find_all('td')\n",
    "            if cols:\n",
    "                date = cols[0].text.strip()\n",
    "\n",
    "                \n",
    "                if date not in [\"Total\", \"Peak\"]:\n",
    "                    rank_span = cols[1].find('span', class_='p')\n",
    "                    streams_span = cols[1].find('span', class_='s')\n",
    "\n",
    "                  \n",
    "                    rank = rank_span.text.strip() if rank_span else None\n",
    "                    streams = streams_span.text.strip() if streams_span else None\n",
    "\n",
    "                    data.append({\n",
    "                        'date': date,\n",
    "                        'rank': rank,\n",
    "                        'streams': streams\n",
    "                    })\n",
    "                    if len(data) == 4:\n",
    "                      break\n",
    "    return data\n",
    "\n",
    "\n",
    "result = {}\n",
    "\n",
    "\n",
    "for song_id in id_tracks:\n",
    "    info = get_song_info(song_id)\n",
    "    if info:\n",
    "        result[song_id] = info\n",
    "\n",
    "with open('view_data.json', 'w', encoding='utf-8') as json_file:\n",
    "    json.dump(result, json_file, ensure_ascii=False, indent=4)\n"
   ]
  }
 ],
 "metadata": {
  "kernelspec": {
   "display_name": "Python 3",
   "language": "python",
   "name": "python3"
  },
  "language_info": {
   "codemirror_mode": {
    "name": "ipython",
    "version": 3
   },
   "file_extension": ".py",
   "mimetype": "text/x-python",
   "name": "python",
   "nbconvert_exporter": "python",
   "pygments_lexer": "ipython3",
   "version": "3.10.11"
  }
 },
 "nbformat": 4,
 "nbformat_minor": 2
}
